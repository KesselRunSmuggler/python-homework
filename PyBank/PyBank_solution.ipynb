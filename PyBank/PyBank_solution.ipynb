{
 "cells": [
  {
   "cell_type": "code",
   "execution_count": 15,
   "id": "c18fa01d-a9e7-401b-b4f1-60c24aca134e",
   "metadata": {},
   "outputs": [],
   "source": [
    "# Import libraries\n",
    "import csv\n",
    "from pathlib import Path"
   ]
  },
  {
   "cell_type": "code",
   "execution_count": 16,
   "id": "e667a227-a9f6-4cd4-8202-aa6ed9c56b51",
   "metadata": {},
   "outputs": [],
   "source": [
    "# Specify the input/output files paths\n",
    "csv_file = Path(\"Resources/budget_data.csv\")\n",
    "csv_output = Path(\"Resources/budget_analysis.txt\")"
   ]
  },
  {
   "cell_type": "code",
   "execution_count": 17,
   "id": "9225e4a3-073b-4bd4-a542-c23d6c1882e6",
   "metadata": {},
   "outputs": [],
   "source": [
    "# Initialising variables\n",
    "total_months = 0\n",
    "month_change = []\n",
    "net_change_list = []\n",
    "increase = [\"\", 0]\n",
    "decrease = [\"\", 999999999999]\n",
    "total_net = 0"
   ]
  },
  {
   "cell_type": "code",
   "execution_count": 18,
   "id": "aca85dc5-6486-40fe-b038-ff194e0425fb",
   "metadata": {},
   "outputs": [],
   "source": [
    "with open(csv_file) as financial_data:\n",
    "    reader = csv.reader(financial_data)\n",
    "    \n",
    "    # Read headers row\n",
    "    header = next(reader)\n",
    "    \n",
    "    # Read next row\n",
    "    first_row = next(reader)\n",
    "    \n",
    "    # Update the total number of months\n",
    "    total_months = 1\n",
    "    \n",
    "    # Update the total net\n",
    "    total_net = total_net + int(first_row[1])\n",
    "    # Assign a previous net variable\n",
    "    prev_net = int(first_row[1])\n",
    "    \n",
    "    # Loop over all rows in csv file\n",
    "    for row in reader:\n",
    "        total_months = total_months + 1\n",
    "        total_net = total_net + int(row[1])\n",
    "        \n",
    "        net_change = int(row[1]) - prev_net\n",
    "        prev_net = int(row[1])\n",
    "        net_change_list.append(net_change)\n",
    "        month_change.append(row[0])\n",
    "        \n",
    "        # Calculate the greatest increase\n",
    "        if net_change > increase[1]:\n",
    "            increase[0] = row[0]\n",
    "            increase[1] = net_change\n",
    "        \n",
    "        # Calulate the greatest decrease\n",
    "        if net_change < decrease[1]:\n",
    "            decrease[0] = row[0]\n",
    "            decrease[1] = net_change    "
   ]
  },
  {
   "cell_type": "code",
   "execution_count": 19,
   "id": "ae77341c-3ee3-4fff-82f5-c06154d5a0f2",
   "metadata": {},
   "outputs": [],
   "source": [
    "net_monthly_average = round(sum(net_change_list)/len(net_change_list),2)"
   ]
  },
  {
   "cell_type": "code",
   "execution_count": 20,
   "id": "fd5ea53b-f4dc-442b-89d4-39e422e95a86",
   "metadata": {},
   "outputs": [],
   "source": [
    "with open(csv_output, \"w\") as txt_file:\n",
    "\n",
    "    txt_file.write(\"Financial Analysis\\n\")\n",
    "    txt_file.write(\"~~~~~~~~~~~~~~~~~~~\\n\")\n",
    "    txt_file.write(f\"Total Months: {total_months}\\n\")\n",
    "    txt_file.write(f\"Total: ${total_net}\\n\")\n",
    "    txt_file.write(f\"Average Change: ${net_monthly_average}\\n\")\n",
    "    txt_file.write(f\"Greatest Increase in Profits: {increase[0]} + ${increase[1]}\\n\")\n",
    "    txt_file.write(f\"Greatest Decrease in Profits: {decrease[0]} + ${decrease[1]}\")"
   ]
  },
  {
   "cell_type": "code",
   "execution_count": null,
   "id": "b02f13e7-c622-4d55-8b98-5035089b5ecd",
   "metadata": {},
   "outputs": [],
   "source": []
  }
 ],
 "metadata": {
  "kernelspec": {
   "display_name": "Python 3",
   "language": "python",
   "name": "python3"
  },
  "language_info": {
   "codemirror_mode": {
    "name": "ipython",
    "version": 3
   },
   "file_extension": ".py",
   "mimetype": "text/x-python",
   "name": "python",
   "nbconvert_exporter": "python",
   "pygments_lexer": "ipython3",
   "version": "3.8.8"
  }
 },
 "nbformat": 4,
 "nbformat_minor": 5
}
